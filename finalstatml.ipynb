{
  "nbformat": 4,
  "nbformat_minor": 0,
  "metadata": {
    "colab": {
      "provenance": [],
      "authorship_tag": "ABX9TyOQ2qkyfaAkL2JhJ+Mf85H+",
      "include_colab_link": true
    },
    "kernelspec": {
      "name": "python3",
      "display_name": "Python 3"
    },
    "language_info": {
      "name": "python"
    }
  },
  "cells": [
    {
      "cell_type": "markdown",
      "metadata": {
        "id": "view-in-github",
        "colab_type": "text"
      },
      "source": [
        "<a href=\"https://colab.research.google.com/github/sriramthota1/statml/blob/main/finalstatml.ipynb\" target=\"_parent\"><img src=\"https://colab.research.google.com/assets/colab-badge.svg\" alt=\"Open In Colab\"/></a>"
      ]
    },
    {
      "cell_type": "code",
      "execution_count": null,
      "metadata": {
        "colab": {
          "base_uri": "https://localhost:8080/"
        },
        "id": "l8ZLVeHxe014",
        "outputId": "f9586824-adc7-429e-f721-89c47d18101a"
      },
      "outputs": [
        {
          "output_type": "stream",
          "name": "stdout",
          "text": [
            "          tau1      tau2      tau3      tau4        p1        p2        p3  \\\n",
            "0     2.959060  3.079885  8.381025  9.780754  3.763085 -0.782604 -1.257395   \n",
            "1     9.304097  4.902524  3.047541  1.369357  5.067812 -1.940058 -1.872742   \n",
            "2     8.971707  8.848428  3.046479  1.214518  3.405158 -1.207456 -1.277210   \n",
            "3     0.716415  7.669600  4.486641  2.340563  3.963791 -1.027473 -1.938944   \n",
            "4     3.134112  7.608772  4.943759  9.857573  3.525811 -1.125531 -1.845975   \n",
            "...        ...       ...       ...       ...       ...       ...       ...   \n",
            "9995  2.930406  9.487627  2.376523  6.187797  3.343416 -0.658054 -1.449106   \n",
            "9996  3.392299  1.274827  2.954947  6.894759  4.349512 -1.663661 -0.952437   \n",
            "9997  2.364034  2.842030  8.776391  1.008906  4.299976 -1.380719 -0.943884   \n",
            "9998  9.631511  3.994398  2.757071  7.821347  2.514755 -0.966330 -0.649915   \n",
            "9999  6.530527  6.781790  4.349695  8.673138  3.492807 -1.390285 -1.532193   \n",
            "\n",
            "            p4        g1        g2        g3        g4      stab  stabf  \n",
            "0    -1.723086  0.650456  0.859578  0.887445  0.958034  0.055347      0  \n",
            "1    -1.255012  0.413441  0.862414  0.562139  0.781760 -0.005957      1  \n",
            "2    -0.920492  0.163041  0.766689  0.839444  0.109853  0.003471      0  \n",
            "3    -0.997374  0.446209  0.976744  0.929381  0.362718  0.028871      0  \n",
            "4    -0.554305  0.797110  0.455450  0.656947  0.820923  0.049860      0  \n",
            "...        ...       ...       ...       ...       ...       ...    ...  \n",
            "9995 -1.236256  0.601709  0.779642  0.813512  0.608385  0.023892      0  \n",
            "9996 -1.733414  0.502079  0.567242  0.285880  0.366120 -0.025803      1  \n",
            "9997 -1.975373  0.487838  0.986505  0.149286  0.145984 -0.031810      1  \n",
            "9998 -0.898510  0.365246  0.587558  0.889118  0.818391  0.037789      0  \n",
            "9999 -0.570329  0.073056  0.505441  0.378761  0.942631  0.045263      0  \n",
            "\n",
            "[10000 rows x 14 columns]\n"
          ]
        }
      ],
      "source": [
        "\n",
        "import pandas as pd\n",
        "import matplotlib.pyplot as plt\n",
        "from sklearn.model_selection import train_test_split\n",
        "from sklearn.linear_model import LogisticRegression\n",
        "data=pd.read_csv('/content/dataset changed.csv')\n",
        "print(data)"
      ]
    },
    {
      "cell_type": "code",
      "source": [
        "x=data.iloc[:,0:13]\n",
        "y=data.iloc[:,13:14]\n",
        "from sklearn.preprocessing import StandardScaler\n",
        "sc=StandardScaler()\n",
        "data=sc.fit(x)\n",
        "dd=sc.transform(x)\n",
        "print(data)\n",
        "print(dd)\n",
        "print(x)\n",
        "print(y)\n",
        "     "
      ],
      "metadata": {
        "colab": {
          "base_uri": "https://localhost:8080/"
        },
        "id": "v34ftkewe76f",
        "outputId": "929f90f4-cb42-420e-b0b0-6df9f947ad53"
      },
      "execution_count": null,
      "outputs": [
        {
          "output_type": "stream",
          "name": "stdout",
          "text": [
            "StandardScaler()\n",
            "[[-0.83537431 -0.79131661  1.14170354 ...  1.32162751  1.57902607\n",
            "   1.07312049]\n",
            " [ 1.47829663 -0.12670487 -0.80311147 ...  0.13542358  0.93625569\n",
            "  -0.58748692]\n",
            " [ 1.35709296  1.31213982 -0.80349871 ...  1.14659573 -1.51380226\n",
            "  -0.33209522]\n",
            " ...\n",
            " [-1.05234609 -0.87804866  1.28587062 ... -1.37001304 -1.38205402\n",
            "  -1.28776845]\n",
            " [ 1.59768553 -0.45784646 -0.90902909 ...  1.32772953  1.06982944\n",
            "   0.59749702]\n",
            " [ 0.4669346   0.55855544 -0.32829064 ... -0.53325125  1.52285961\n",
            "   0.79996367]]\n",
            "          tau1      tau2      tau3      tau4        p1        p2        p3  \\\n",
            "0     2.959060  3.079885  8.381025  9.780754  3.763085 -0.782604 -1.257395   \n",
            "1     9.304097  4.902524  3.047541  1.369357  5.067812 -1.940058 -1.872742   \n",
            "2     8.971707  8.848428  3.046479  1.214518  3.405158 -1.207456 -1.277210   \n",
            "3     0.716415  7.669600  4.486641  2.340563  3.963791 -1.027473 -1.938944   \n",
            "4     3.134112  7.608772  4.943759  9.857573  3.525811 -1.125531 -1.845975   \n",
            "...        ...       ...       ...       ...       ...       ...       ...   \n",
            "9995  2.930406  9.487627  2.376523  6.187797  3.343416 -0.658054 -1.449106   \n",
            "9996  3.392299  1.274827  2.954947  6.894759  4.349512 -1.663661 -0.952437   \n",
            "9997  2.364034  2.842030  8.776391  1.008906  4.299976 -1.380719 -0.943884   \n",
            "9998  9.631511  3.994398  2.757071  7.821347  2.514755 -0.966330 -0.649915   \n",
            "9999  6.530527  6.781790  4.349695  8.673138  3.492807 -1.390285 -1.532193   \n",
            "\n",
            "            p4        g1        g2        g3        g4      stab  \n",
            "0    -1.723086  0.650456  0.859578  0.887445  0.958034  0.055347  \n",
            "1    -1.255012  0.413441  0.862414  0.562139  0.781760 -0.005957  \n",
            "2    -0.920492  0.163041  0.766689  0.839444  0.109853  0.003471  \n",
            "3    -0.997374  0.446209  0.976744  0.929381  0.362718  0.028871  \n",
            "4    -0.554305  0.797110  0.455450  0.656947  0.820923  0.049860  \n",
            "...        ...       ...       ...       ...       ...       ...  \n",
            "9995 -1.236256  0.601709  0.779642  0.813512  0.608385  0.023892  \n",
            "9996 -1.733414  0.502079  0.567242  0.285880  0.366120 -0.025803  \n",
            "9997 -1.975373  0.487838  0.986505  0.149286  0.145984 -0.031810  \n",
            "9998 -0.898510  0.365246  0.587558  0.889118  0.818391  0.037789  \n",
            "9999 -0.570329  0.073056  0.505441  0.378761  0.942631  0.045263  \n",
            "\n",
            "[10000 rows x 13 columns]\n",
            "      stabf\n",
            "0         0\n",
            "1         1\n",
            "2         0\n",
            "3         0\n",
            "4         0\n",
            "...     ...\n",
            "9995      0\n",
            "9996      1\n",
            "9997      1\n",
            "9998      0\n",
            "9999      0\n",
            "\n",
            "[10000 rows x 1 columns]\n"
          ]
        }
      ]
    },
    {
      "cell_type": "code",
      "source": [
        "x_train,x_test,y_train,y_test=train_test_split(x,y,test_size=0.25,random_state=True)\n",
        "print(x_train.shape)\n",
        "print(y_train.shape)\n",
        "print(x_test.shape)\n",
        "print(y_test.shape)"
      ],
      "metadata": {
        "colab": {
          "base_uri": "https://localhost:8080/"
        },
        "id": "2cLN3wAJe8Gw",
        "outputId": "c141ed26-608d-43c5-9f8e-de7b1b35d9f8"
      },
      "execution_count": null,
      "outputs": [
        {
          "output_type": "stream",
          "name": "stdout",
          "text": [
            "(7500, 13)\n",
            "(7500, 1)\n",
            "(2500, 13)\n",
            "(2500, 1)\n"
          ]
        }
      ]
    },
    {
      "cell_type": "code",
      "source": [
        "lg=LogisticRegression(random_state=99)\n",
        "x_train,x_test,y_train,y_test=train_test_split(x,y,test_size=0.1,random_state=True)\n",
        "mm=lg.fit(x_train, y_train)\n",
        "print('training value',mm.score(x_train,y_train))\n",
        "print('testing value',mm.score(x_test,y_test))\n",
        "yp=mm.predict(x_test)  \n",
        "from sklearn.metrics import accuracy_score\n",
        "print(accuracy_score(yp,y_test))"
      ],
      "metadata": {
        "colab": {
          "base_uri": "https://localhost:8080/"
        },
        "id": "OCGM05M0e8Jk",
        "outputId": "35055114-93ac-4e07-9a20-4d8284676b7c"
      },
      "execution_count": null,
      "outputs": [
        {
          "output_type": "stream",
          "name": "stdout",
          "text": [
            "training value 0.9027777777777778\n",
            "testing value 0.886\n",
            "0.886\n"
          ]
        },
        {
          "output_type": "stream",
          "name": "stderr",
          "text": [
            "/usr/local/lib/python3.8/dist-packages/sklearn/utils/validation.py:993: DataConversionWarning: A column-vector y was passed when a 1d array was expected. Please change the shape of y to (n_samples, ), for example using ravel().\n",
            "  y = column_or_1d(y, warn=True)\n",
            "/usr/local/lib/python3.8/dist-packages/sklearn/linear_model/_logistic.py:814: ConvergenceWarning: lbfgs failed to converge (status=1):\n",
            "STOP: TOTAL NO. of ITERATIONS REACHED LIMIT.\n",
            "\n",
            "Increase the number of iterations (max_iter) or scale the data as shown in:\n",
            "    https://scikit-learn.org/stable/modules/preprocessing.html\n",
            "Please also refer to the documentation for alternative solver options:\n",
            "    https://scikit-learn.org/stable/modules/linear_model.html#logistic-regression\n",
            "  n_iter_i = _check_optimize_result(\n"
          ]
        }
      ]
    },
    {
      "cell_type": "code",
      "source": [
        "from sklearn.metrics import classification_report\n",
        "print(classification_report(yp,y_test))\n",
        "     "
      ],
      "metadata": {
        "colab": {
          "base_uri": "https://localhost:8080/"
        },
        "id": "jEPxMILhfG21",
        "outputId": "aea17777-562a-4bf6-aadb-925b2cf2a541"
      },
      "execution_count": null,
      "outputs": [
        {
          "output_type": "stream",
          "name": "stdout",
          "text": [
            "              precision    recall  f1-score   support\n",
            "\n",
            "           0       0.92      0.91      0.91       671\n",
            "           1       0.82      0.84      0.83       329\n",
            "\n",
            "    accuracy                           0.89      1000\n",
            "   macro avg       0.87      0.87      0.87      1000\n",
            "weighted avg       0.89      0.89      0.89      1000\n",
            "\n"
          ]
        }
      ]
    },
    {
      "cell_type": "code",
      "source": [
        "from sklearn import metrics\n",
        "metrics.plot_roc_curve(mm,x_test,y_test)"
      ],
      "metadata": {
        "colab": {
          "base_uri": "https://localhost:8080/",
          "height": 351
        },
        "id": "MUYjEshLe8NH",
        "outputId": "2abaeaf6-aad6-456c-f1c7-545e5b5db130"
      },
      "execution_count": null,
      "outputs": [
        {
          "output_type": "stream",
          "name": "stderr",
          "text": [
            "/usr/local/lib/python3.8/dist-packages/sklearn/utils/deprecation.py:87: FutureWarning: Function plot_roc_curve is deprecated; Function :func:`plot_roc_curve` is deprecated in 1.0 and will be removed in 1.2. Use one of the class methods: :meth:`sklearn.metric.RocCurveDisplay.from_predictions` or :meth:`sklearn.metric.RocCurveDisplay.from_estimator`.\n",
            "  warnings.warn(msg, category=FutureWarning)\n"
          ]
        },
        {
          "output_type": "execute_result",
          "data": {
            "text/plain": [
              "<sklearn.metrics._plot.roc_curve.RocCurveDisplay at 0x7fcea9288cd0>"
            ]
          },
          "metadata": {},
          "execution_count": 13
        },
        {
          "output_type": "display_data",
          "data": {
            "text/plain": [
              "<Figure size 432x288 with 1 Axes>"
            ],
            "image/png": "[encoded data removed]"
          },
          "metadata": {
            "needs_background": "light"
          }
        }
      ]
    },
    {
      "cell_type": "code",
      "source": [
        "\n",
        "from sklearn.metrics import confusion_matrix\n",
        "from sklearn.metrics import ConfusionMatrixDisplay\n",
        "cm=confusion_matrix(yp,y_test)\n",
        "d=ConfusionMatrixDisplay(cm).plot()\n",
        "     "
      ],
      "metadata": {
        "colab": {
          "base_uri": "https://localhost:8080/",
          "height": 279
        },
        "id": "pGISmN4afNN1",
        "outputId": "e92d3f4d-0a6c-494b-fd60-6884f95a0d6e"
      },
      "execution_count": null,
      "outputs": [
        {
          "output_type": "display_data",
          "data": {
            "text/plain": [
              "<Figure size 432x288 with 2 Axes>"
            ],
            "image/png": "[encoded data removed]"
          },
          "metadata": {
            "needs_background": "light"
          }
        }
      ]
    },
    {
      "cell_type": "code",
      "source": [
        "# importing libraries  \n",
        "import numpy as nm  \n",
        "import matplotlib.pyplot as mtp  \n",
        "import pandas as pd  \n",
        "  \n",
        "#importing datasets  \n",
        "data_set= pd.read_csv('/content/dataset changed.csv')  \n",
        "  \n",
        "#Extracting Independent and dependent Variable  \n",
        "X= data_set.iloc[:, 0:13].values  \n",
        "y= data_set.iloc[:, 13:14].values   \n",
        "print(X)\n",
        "from sklearn.model_selection import train_test_split\n",
        "X_train, X_test, y_train, y_test = train_test_split(X, y, test_size = 0.10)\n",
        "  \n",
        "# Splitting the dataset into training and test set.  \n",
        "from sklearn.preprocessing import StandardScaler\n",
        "scaler = StandardScaler()\n",
        "scaler.fit(X_train)\n",
        "X_train = scaler.transform(X_train)\n",
        "X_test = scaler.transform(X_test)\n",
        "from sklearn.neighbors import KNeighborsClassifier\n",
        "classifier = KNeighborsClassifier(n_neighbors = 5)\n",
        "classifier.fit(X_train, y_train)\n",
        "y_pred = classifier.predict(X_test)\n",
        "from sklearn.metrics import classification_report, confusion_matrix, accuracy_score\n",
        "from sklearn.metrics import ConfusionMatrixDisplay\n",
        "result = confusion_matrix(y_test, y_pred)\n",
        "d=ConfusionMatrixDisplay(result).plot()\n",
        "print(\"Confusion Matrix:\")\n",
        "print(result)\n",
        "result1 = classification_report(y_test, y_pred)\n",
        "print(\"Classification Report:\",)\n",
        "print (result1)\n",
        "result2 = accuracy_score(y_test,y_pred)\n",
        "print(\"Accuracy:\",result2)\n",
        "  \n",
        "#feature Scaling  \n",
        "from sklearn.preprocessing import StandardScaler    \n",
        "st_x= StandardScaler()    \n",
        "x_train= st_x.fit_transform(X_train)    \n",
        "x_test= st_x.transform(X_test)  \n",
        "y_train = st_x.fit_transform(y_train)\n",
        "y_test = st_x.transform(y_test)"
      ],
      "metadata": {
        "colab": {
          "base_uri": "https://localhost:8080/",
          "height": 802
        },
        "id": "rax2dr3sp0qU",
        "outputId": "bfd496bb-4302-4b10-e0e0-a1671bdc8cc5"
      },
      "execution_count": null,
      "outputs": [
        {
          "output_type": "stream",
          "name": "stdout",
          "text": [
            "[[ 2.95906002e+00  3.07988520e+00  8.38102539e+00 ...  8.87444921e-01\n",
            "   9.58033988e-01  5.53474890e-02]\n",
            " [ 9.30409724e+00  4.90252411e+00  3.04754073e+00 ...  5.62139051e-01\n",
            "   7.81759911e-01 -5.95746400e-03]\n",
            " [ 8.97170691e+00  8.84842842e+00  3.04647875e+00 ...  8.39444015e-01\n",
            "   1.09853245e-01  3.47087900e-03]\n",
            " ...\n",
            " [ 2.36403419e+00  2.84203025e+00  8.77639096e+00 ...  1.49286458e-01\n",
            "   1.45984032e-01 -3.18098880e-02]\n",
            " [ 9.63151069e+00  3.99439760e+00  2.75707093e+00 ...  8.89118346e-01\n",
            "   8.18391326e-01  3.77888090e-02]\n",
            " [ 6.53052662e+00  6.78178990e+00  4.34969522e+00 ...  3.78760930e-01\n",
            "   9.42630833e-01  4.52633080e-02]]\n",
            "Confusion Matrix:\n",
            "[[595  28]\n",
            " [ 38 339]]\n"
          ]
        },
        {
          "output_type": "stream",
          "name": "stderr",
          "text": [
            "/usr/local/lib/python3.8/dist-packages/sklearn/neighbors/_classification.py:198: DataConversionWarning: A column-vector y was passed when a 1d array was expected. Please change the shape of y to (n_samples,), for example using ravel().\n",
            "  return self._fit(X, y)\n"
          ]
        },
        {
          "output_type": "stream",
          "name": "stdout",
          "text": [
            "Classification Report:\n",
            "              precision    recall  f1-score   support\n",
            "\n",
            "           0       0.94      0.96      0.95       623\n",
            "           1       0.92      0.90      0.91       377\n",
            "\n",
            "    accuracy                           0.93      1000\n",
            "   macro avg       0.93      0.93      0.93      1000\n",
            "weighted avg       0.93      0.93      0.93      1000\n",
            "\n",
            "Accuracy: 0.934\n"
          ]
        },
        {
          "output_type": "display_data",
          "data": {
            "text/plain": [
              "<Figure size 432x288 with 2 Axes>"
            ],
            "image/png": "[encoded data removed]"
          },
          "metadata": {
            "needs_background": "light"
          }
        }
      ]
    }
  ]
}